{
 "cells": [
  {
   "cell_type": "markdown",
   "id": "5daa76fe",
   "metadata": {},
   "source": [
    "<center><h1>Capstone Project Creation</h1></center>\n",
    "<center><h3>IBM SkillsBuild Europe Delivery - Data Analytics</h3></center>\n",
    "\n",
    "\n",
    "# Pre-requisite\n",
    "\n",
    "* Understanding of Python, Power BI or Tableau\n",
    "* Understanding of Data Cleaning \n",
    "* Understanding Data Visualization\n",
    "\n",
    "#### Level of Exercise: Intermediate\n",
    "\n",
    "#### Duration: approximately 3 hours\n",
    "\n",
    "#### All exercises are required for a successful completion of this project\n",
    "\n",
    "Please return this file with the answers in it to englishtrainer@skillup.online on or before the 22nd of December 2022."
   ]
  },
  {
   "cell_type": "markdown",
   "id": "ce8639cb",
   "metadata": {},
   "source": [
    "### Data Analytics of Airbnb Data:\n",
    "\n",
    "#### Objective:\n",
    "\n",
    "In this exericise, you will be performing Data Analytics on an Open Dataset dataset coming from Airbnb. Some of the tasks include\n",
    "- Data Cleaning.\n",
    "- Data Transformation\n",
    "- Data Visualization.\n",
    "\n",
    "#### Overview of Airbnb Data:\n",
    "\n",
    "People's main criteria when visiting new places are reasonable accommodation and food. Airbnb (Air-Bed-Breakfast) is an online marketplace created to meet this need of people by renting out their homes for a short term. They offer this facility at a relatively lower price than hotels. Further people worldwide prefer the homely and economical service offered by them. They offer services across various geographical locations\n",
    "\n",
    "#### Dataset Source\n",
    "\n",
    "YOu can get the dataset for this assessment using the following link: https://www.kaggle.com/datasets/arianazmoudeh/airbnbopendata\n",
    "\n",
    "This dataset contains information such as the neighborhood offering these services, room type, price,avaliabilty, reviews, service fee, cancellation policy and rules to use the house. This analysis will help airbnb in improving its services.  \n",
    "\n",
    "So all the best for your Data Analytics Journey on Airbnb data!!!"
   ]
  },
  {
   "cell_type": "markdown",
   "id": "9a86cf69",
   "metadata": {},
   "source": [
    "## Task 1: Data Loading (Python)\n",
    "\n",
    "1. Read the csv file and load it into a pandas dataframe.\n",
    "2. Display the first five rows of your dataframe.\n",
    "3. Display the data types of the columns."
   ]
  },
  {
   "cell_type": "code",
   "execution_count": 140,
   "id": "3e5ea376",
   "metadata": {},
   "outputs": [],
   "source": [
    "## Read the csv file\n",
    "import os\n",
    "import pandas as pd\n",
    "\n",
    "# Development done on Linux environment - set current directory to location of data file.\n",
    "os.chdir(\"/home/chris/anaconda3/envs/sb-dataanalytics/capstone\")\n",
    "\n",
    "# Loading raw Airbnb data from kaggle\n",
    "# The last columns 'license' containing unrecognized characters which is being ignored. \n",
    "airbnb_data = pd.read_csv(\"Airbnb_Open_Data.csv\", usecols = [i for i in range(25)])"
   ]
  },
  {
   "cell_type": "code",
   "execution_count": 141,
   "id": "18c08d94",
   "metadata": {},
   "outputs": [
    {
     "data": {
      "text/html": [
       "<div>\n",
       "<style scoped>\n",
       "    .dataframe tbody tr th:only-of-type {\n",
       "        vertical-align: middle;\n",
       "    }\n",
       "\n",
       "    .dataframe tbody tr th {\n",
       "        vertical-align: top;\n",
       "    }\n",
       "\n",
       "    .dataframe thead th {\n",
       "        text-align: right;\n",
       "    }\n",
       "</style>\n",
       "<table border=\"1\" class=\"dataframe\">\n",
       "  <thead>\n",
       "    <tr style=\"text-align: right;\">\n",
       "      <th></th>\n",
       "      <th>id</th>\n",
       "      <th>NAME</th>\n",
       "      <th>host id</th>\n",
       "      <th>host_identity_verified</th>\n",
       "      <th>host name</th>\n",
       "      <th>neighbourhood group</th>\n",
       "      <th>neighbourhood</th>\n",
       "      <th>lat</th>\n",
       "      <th>long</th>\n",
       "      <th>country</th>\n",
       "      <th>...</th>\n",
       "      <th>price</th>\n",
       "      <th>service fee</th>\n",
       "      <th>minimum nights</th>\n",
       "      <th>number of reviews</th>\n",
       "      <th>last review</th>\n",
       "      <th>reviews per month</th>\n",
       "      <th>review rate number</th>\n",
       "      <th>calculated host listings count</th>\n",
       "      <th>availability 365</th>\n",
       "      <th>house_rules</th>\n",
       "    </tr>\n",
       "  </thead>\n",
       "  <tbody>\n",
       "    <tr>\n",
       "      <th>0</th>\n",
       "      <td>1001254</td>\n",
       "      <td>Clean &amp; quiet apt home by the park</td>\n",
       "      <td>80014485718</td>\n",
       "      <td>unconfirmed</td>\n",
       "      <td>Madaline</td>\n",
       "      <td>Brooklyn</td>\n",
       "      <td>Kensington</td>\n",
       "      <td>40.64749</td>\n",
       "      <td>-73.97237</td>\n",
       "      <td>United States</td>\n",
       "      <td>...</td>\n",
       "      <td>$966</td>\n",
       "      <td>$193</td>\n",
       "      <td>10.0</td>\n",
       "      <td>9.0</td>\n",
       "      <td>10/19/2021</td>\n",
       "      <td>0.21</td>\n",
       "      <td>4.0</td>\n",
       "      <td>6.0</td>\n",
       "      <td>286.0</td>\n",
       "      <td>Clean up and treat the home the way you'd like...</td>\n",
       "    </tr>\n",
       "    <tr>\n",
       "      <th>1</th>\n",
       "      <td>1002102</td>\n",
       "      <td>Skylit Midtown Castle</td>\n",
       "      <td>52335172823</td>\n",
       "      <td>verified</td>\n",
       "      <td>Jenna</td>\n",
       "      <td>Manhattan</td>\n",
       "      <td>Midtown</td>\n",
       "      <td>40.75362</td>\n",
       "      <td>-73.98377</td>\n",
       "      <td>United States</td>\n",
       "      <td>...</td>\n",
       "      <td>$142</td>\n",
       "      <td>$28</td>\n",
       "      <td>30.0</td>\n",
       "      <td>45.0</td>\n",
       "      <td>5/21/2022</td>\n",
       "      <td>0.38</td>\n",
       "      <td>4.0</td>\n",
       "      <td>2.0</td>\n",
       "      <td>228.0</td>\n",
       "      <td>Pet friendly but please confirm with me if the...</td>\n",
       "    </tr>\n",
       "    <tr>\n",
       "      <th>2</th>\n",
       "      <td>1002403</td>\n",
       "      <td>THE VILLAGE OF HARLEM....NEW YORK !</td>\n",
       "      <td>78829239556</td>\n",
       "      <td>NaN</td>\n",
       "      <td>Elise</td>\n",
       "      <td>Manhattan</td>\n",
       "      <td>Harlem</td>\n",
       "      <td>40.80902</td>\n",
       "      <td>-73.94190</td>\n",
       "      <td>United States</td>\n",
       "      <td>...</td>\n",
       "      <td>$620</td>\n",
       "      <td>$124</td>\n",
       "      <td>3.0</td>\n",
       "      <td>0.0</td>\n",
       "      <td>NaN</td>\n",
       "      <td>NaN</td>\n",
       "      <td>5.0</td>\n",
       "      <td>1.0</td>\n",
       "      <td>352.0</td>\n",
       "      <td>I encourage you to use my kitchen, cooking and...</td>\n",
       "    </tr>\n",
       "    <tr>\n",
       "      <th>3</th>\n",
       "      <td>1002755</td>\n",
       "      <td>NaN</td>\n",
       "      <td>85098326012</td>\n",
       "      <td>unconfirmed</td>\n",
       "      <td>Garry</td>\n",
       "      <td>Brooklyn</td>\n",
       "      <td>Clinton Hill</td>\n",
       "      <td>40.68514</td>\n",
       "      <td>-73.95976</td>\n",
       "      <td>United States</td>\n",
       "      <td>...</td>\n",
       "      <td>$368</td>\n",
       "      <td>$74</td>\n",
       "      <td>30.0</td>\n",
       "      <td>270.0</td>\n",
       "      <td>7/5/2019</td>\n",
       "      <td>4.64</td>\n",
       "      <td>4.0</td>\n",
       "      <td>1.0</td>\n",
       "      <td>322.0</td>\n",
       "      <td>NaN</td>\n",
       "    </tr>\n",
       "    <tr>\n",
       "      <th>4</th>\n",
       "      <td>1003689</td>\n",
       "      <td>Entire Apt: Spacious Studio/Loft by central park</td>\n",
       "      <td>92037596077</td>\n",
       "      <td>verified</td>\n",
       "      <td>Lyndon</td>\n",
       "      <td>Manhattan</td>\n",
       "      <td>East Harlem</td>\n",
       "      <td>40.79851</td>\n",
       "      <td>-73.94399</td>\n",
       "      <td>United States</td>\n",
       "      <td>...</td>\n",
       "      <td>$204</td>\n",
       "      <td>$41</td>\n",
       "      <td>10.0</td>\n",
       "      <td>9.0</td>\n",
       "      <td>11/19/2018</td>\n",
       "      <td>0.10</td>\n",
       "      <td>3.0</td>\n",
       "      <td>1.0</td>\n",
       "      <td>289.0</td>\n",
       "      <td>Please no smoking in the house, porch or on th...</td>\n",
       "    </tr>\n",
       "  </tbody>\n",
       "</table>\n",
       "<p>5 rows × 25 columns</p>\n",
       "</div>"
      ],
      "text/plain": [
       "        id                                              NAME      host id  \\\n",
       "0  1001254                Clean & quiet apt home by the park  80014485718   \n",
       "1  1002102                             Skylit Midtown Castle  52335172823   \n",
       "2  1002403               THE VILLAGE OF HARLEM....NEW YORK !  78829239556   \n",
       "3  1002755                                               NaN  85098326012   \n",
       "4  1003689  Entire Apt: Spacious Studio/Loft by central park  92037596077   \n",
       "\n",
       "  host_identity_verified host name neighbourhood group neighbourhood  \\\n",
       "0            unconfirmed  Madaline            Brooklyn    Kensington   \n",
       "1               verified     Jenna           Manhattan       Midtown   \n",
       "2                    NaN     Elise           Manhattan        Harlem   \n",
       "3            unconfirmed     Garry            Brooklyn  Clinton Hill   \n",
       "4               verified    Lyndon           Manhattan   East Harlem   \n",
       "\n",
       "        lat      long        country  ...  price service fee minimum nights  \\\n",
       "0  40.64749 -73.97237  United States  ...  $966        $193            10.0   \n",
       "1  40.75362 -73.98377  United States  ...  $142         $28            30.0   \n",
       "2  40.80902 -73.94190  United States  ...  $620        $124             3.0   \n",
       "3  40.68514 -73.95976  United States  ...  $368         $74            30.0   \n",
       "4  40.79851 -73.94399  United States  ...  $204         $41            10.0   \n",
       "\n",
       "  number of reviews  last review reviews per month review rate number  \\\n",
       "0               9.0   10/19/2021              0.21                4.0   \n",
       "1              45.0    5/21/2022              0.38                4.0   \n",
       "2               0.0          NaN               NaN                5.0   \n",
       "3             270.0     7/5/2019              4.64                4.0   \n",
       "4               9.0   11/19/2018              0.10                3.0   \n",
       "\n",
       "   calculated host listings count  availability 365  \\\n",
       "0                             6.0             286.0   \n",
       "1                             2.0             228.0   \n",
       "2                             1.0             352.0   \n",
       "3                             1.0             322.0   \n",
       "4                             1.0             289.0   \n",
       "\n",
       "                                         house_rules  \n",
       "0  Clean up and treat the home the way you'd like...  \n",
       "1  Pet friendly but please confirm with me if the...  \n",
       "2  I encourage you to use my kitchen, cooking and...  \n",
       "3                                                NaN  \n",
       "4  Please no smoking in the house, porch or on th...  \n",
       "\n",
       "[5 rows x 25 columns]"
      ]
     },
     "execution_count": 141,
     "metadata": {},
     "output_type": "execute_result"
    }
   ],
   "source": [
    "## Display the first 5 rows\n",
    "airbnb_data.head(5)"
   ]
  },
  {
   "cell_type": "code",
   "execution_count": 142,
   "id": "0e61d56e",
   "metadata": {},
   "outputs": [
    {
     "data": {
      "text/plain": [
       "id                                  int64\n",
       "NAME                               object\n",
       "host id                             int64\n",
       "host_identity_verified             object\n",
       "host name                          object\n",
       "neighbourhood group                object\n",
       "neighbourhood                      object\n",
       "lat                               float64\n",
       "long                              float64\n",
       "country                            object\n",
       "country code                       object\n",
       "instant_bookable                   object\n",
       "cancellation_policy                object\n",
       "room type                          object\n",
       "Construction year                 float64\n",
       "price                              object\n",
       "service fee                        object\n",
       "minimum nights                    float64\n",
       "number of reviews                 float64\n",
       "last review                        object\n",
       "reviews per month                 float64\n",
       "review rate number                float64\n",
       "calculated host listings count    float64\n",
       "availability 365                  float64\n",
       "house_rules                        object\n",
       "dtype: object"
      ]
     },
     "execution_count": 142,
     "metadata": {},
     "output_type": "execute_result"
    }
   ],
   "source": [
    "## Display the data types\n",
    "airbnb_data.dtypes"
   ]
  },
  {
   "cell_type": "markdown",
   "id": "0b2e801f",
   "metadata": {},
   "source": [
    "## Task 2a: Data Cleaning (Any Tool)\n",
    "\n",
    "1. Drop some of the unwanted columns. These include `host id`, `id`, `country` and `country code` from the dataset. \n",
    "2. State the reason for not including these columns for your Data Analytics.\n",
    "\n",
    "If using Python for this exercise, please include the code in the cells below. If using any other tool, please include screenshoots before and after the elimination of the columns."
   ]
  },
  {
   "cell_type": "code",
   "execution_count": 143,
   "id": "3de0751f",
   "metadata": {},
   "outputs": [],
   "source": [
    "# The following columns will be removed:\n",
    "# id            - We do not need the unique identifier of each row\n",
    "# host id       - We do not need unique identifier for the host\n",
    "# country       - All data is in US. Column is redundant\n",
    "# country code  - All data is in US. Unique identifier is redundant\n",
    "\n",
    "columns_to_remove = [\"id\", \"host id\", \"country\", \"country code\"]\n",
    "\n",
    "# Perform inplace as we do not need copy of the data frame\n",
    "airbnb_data.drop(columns=columns_to_remove, inplace=True)"
   ]
  },
  {
   "cell_type": "markdown",
   "id": "2071cce7",
   "metadata": {},
   "source": [
    "## Task 2b: Data Cleaning (Python)\n",
    "\n",
    "- Check for missing values in the dataframe and display the count in ascending order. **If the values are missing, impute the values as per the datatype of the columns.**\n",
    "- Check whether there are any duplicate values in the dataframe and, if present, remove them.\n",
    "- Display the total number of records in the dataframe before and after removing the duplicates."
   ]
  },
  {
   "cell_type": "code",
   "execution_count": 144,
   "id": "e78c0409",
   "metadata": {},
   "outputs": [
    {
     "data": {
      "text/plain": [
       "house_rules                       52131\n",
       "last review                       15893\n",
       "reviews per month                 15879\n",
       "availability 365                    448\n",
       "minimum nights                      409\n",
       "host name                           406\n",
       "review rate number                  326\n",
       "calculated host listings count      319\n",
       "host_identity_verified              289\n",
       "service fee                         273\n",
       "NAME                                250\n",
       "price                               247\n",
       "Construction year                   214\n",
       "number of reviews                   183\n",
       "instant_bookable                    105\n",
       "cancellation_policy                  76\n",
       "neighbourhood group                  29\n",
       "neighbourhood                        16\n",
       "long                                  8\n",
       "lat                                   8\n",
       "room type                             0\n",
       "dtype: int64"
      ]
     },
     "execution_count": 144,
     "metadata": {},
     "output_type": "execute_result"
    }
   ],
   "source": [
    "## Check for missing values in the dataframe and display the count in ascending order.\n",
    "airbnb_data.isna().sum().sort_values(ascending=False)"
   ]
  },
  {
   "cell_type": "code",
   "execution_count": 145,
   "id": "7a691fba",
   "metadata": {},
   "outputs": [],
   "source": [
    "# First get a count of rows before we remove duplicates\n",
    "count_rows_before = len(airbnb_data.axes[0])\n",
    "\n",
    "## Check whether there are any duplicate values in the dataframe and if present remove them.\n",
    "airbnb_data.drop_duplicates(keep=\"last\", inplace=True)"
   ]
  },
  {
   "cell_type": "code",
   "execution_count": 146,
   "id": "5b1596fa",
   "metadata": {},
   "outputs": [
    {
     "name": "stdout",
     "output_type": "stream",
     "text": [
      "Count of rows when processing duplicates in the data frame:\n",
      "Before removing duplicates: 102599\n",
      "After removing duplicates : 99163\n"
     ]
    }
   ],
   "source": [
    "## Display the total number of records in the dataframe after removing the duplicates.\n",
    "count_rows_after = len(airbnb_data.axes[0])\n",
    "\n",
    "# Output the before and after count to the user\n",
    "print(\"Count of rows when processing duplicates in the data frame:\")\n",
    "print(f\"Before removing duplicates: {count_rows_before}\")\n",
    "print(f\"After removing duplicates : {count_rows_after}\")"
   ]
  },
  {
   "cell_type": "markdown",
   "id": "1bf8912c",
   "metadata": {},
   "source": [
    "## Task 3: Data Transformation (Any Tool)\n",
    "\n",
    "\n",
    "- Rename the column `availability 365` to `days_booked`\n",
    "- Convert all column names to lowercase and replace the spaces in the column names with an underscore \"_\".\n",
    "- Remove the dollar sign and comma from the columns `price` and `service_fee`. If necessary, convert these two columns to the appropriate data type.\n",
    "\n",
    "If using Python for this exercise, please include the code in the cells below. If using any other tool, please include screenshoots of your work."
   ]
  },
  {
   "cell_type": "code",
   "execution_count": 147,
   "id": "3adf9b6b",
   "metadata": {},
   "outputs": [],
   "source": [
    "## Rename the column.\n",
    "airbnb_data.rename(columns={\"availability 365\": \"days_booked\"}, inplace=True)"
   ]
  },
  {
   "cell_type": "code",
   "execution_count": 148,
   "id": "9e968504",
   "metadata": {},
   "outputs": [],
   "source": [
    "## Convert all column names to lowercase and replace the spaces with an underscore \"_\"\n",
    "new_column_names = {}\n",
    "\n",
    "# Iterate through each column to build the new dictionary of amended names\n",
    "for column in airbnb_data.columns:\n",
    "    new_column_names[column] = column.lower().replace(\" \", \"_\")\n",
    "\n",
    "airbnb_data.rename(columns=new_column_names, inplace=True)"
   ]
  },
  {
   "cell_type": "code",
   "execution_count": 149,
   "id": "38430057",
   "metadata": {},
   "outputs": [
    {
     "name": "stderr",
     "output_type": "stream",
     "text": [
      "/tmp/ipykernel_34077/1202026920.py:5: FutureWarning: The default value of regex will change from True to False in a future version. In addition, single character regular expressions will *not* be treated as literal strings when regex=True.\n",
      "  airbnb_data[\"price\"] = airbnb_data[\"price\"].str.replace(\"$\", \"\")\n",
      "/tmp/ipykernel_34077/1202026920.py:7: FutureWarning: The default value of regex will change from True to False in a future version. In addition, single character regular expressions will *not* be treated as literal strings when regex=True.\n",
      "  airbnb_data[\"service_fee\"] = airbnb_data[\"service_fee\"].str.replace(\"$\", \"\")\n"
     ]
    }
   ],
   "source": [
    "## Remove the dollar sign and comma from the columns. If necessary, convert these two columns to the appropriate data type.\n",
    "\n",
    "# First remove the '$' character from the strings in the columns. The ',' character should also be removed\n",
    "# Only the following two columns need changing\n",
    "airbnb_data[\"price\"] = airbnb_data[\"price\"].str.replace(\"$\", \"\")\n",
    "airbnb_data[\"price\"] = airbnb_data[\"price\"].str.replace(\",\", \"\")\n",
    "airbnb_data[\"service_fee\"] = airbnb_data[\"service_fee\"].str.replace(\"$\", \"\")\n",
    "airbnb_data[\"service_fee\"] = airbnb_data[\"service_fee\"].str.replace(\",\", \"\")\n",
    "\n",
    "# The columns should only contain numbers, hence we can attempt the conversion\n",
    "airbnb_data[\"price\"] = airbnb_data[\"price\"].astype(float)\n",
    "airbnb_data[\"service_fee\"] = airbnb_data[\"service_fee\"].astype(float)"
   ]
  },
  {
   "cell_type": "markdown",
   "id": "cca8194c",
   "metadata": {},
   "source": []
  },
  {
   "cell_type": "markdown",
   "id": "f5fdef8b",
   "metadata": {},
   "source": [
    "### Task 4: Exploratory Data Analysis (Any Tool)\n",
    "\n",
    "- List the count of various room types avaliable in the dataset.\n",
    "- Which room type has the most strict cancellation policy?\n",
    "- List the average price per neighborhood group, and highlight the most expensive neighborhood to rent from.\n",
    "\n",
    "If using Python for this exercise, please include the code in the cells below. If using any other tool, please include screenshoots of your work."
   ]
  },
  {
   "cell_type": "code",
   "execution_count": 150,
   "id": "c171e196",
   "metadata": {},
   "outputs": [
    {
     "data": {
      "text/plain": [
       "room_type\n",
       "Entire home/apt    52003\n",
       "Hotel room           115\n",
       "Private room       44895\n",
       "Shared room         2150\n",
       "dtype: int64"
      ]
     },
     "execution_count": 150,
     "metadata": {},
     "output_type": "execute_result"
    }
   ],
   "source": [
    "## List the count of various room types available with Airbnb\n",
    "airbnb_data.groupby(\"room_type\").size()"
   ]
  },
  {
   "cell_type": "code",
   "execution_count": 151,
   "id": "7f651811",
   "metadata": {},
   "outputs": [
    {
     "data": {
      "text/html": [
       "<div>\n",
       "<style scoped>\n",
       "    .dataframe tbody tr th:only-of-type {\n",
       "        vertical-align: middle;\n",
       "    }\n",
       "\n",
       "    .dataframe tbody tr th {\n",
       "        vertical-align: top;\n",
       "    }\n",
       "\n",
       "    .dataframe thead th {\n",
       "        text-align: right;\n",
       "    }\n",
       "</style>\n",
       "<table border=\"1\" class=\"dataframe\">\n",
       "  <thead>\n",
       "    <tr style=\"text-align: right;\">\n",
       "      <th></th>\n",
       "      <th>room_type</th>\n",
       "      <th>count</th>\n",
       "    </tr>\n",
       "  </thead>\n",
       "  <tbody>\n",
       "    <tr>\n",
       "      <th>0</th>\n",
       "      <td>Entire home/apt</td>\n",
       "      <td>17241</td>\n",
       "    </tr>\n",
       "    <tr>\n",
       "      <th>2</th>\n",
       "      <td>Private room</td>\n",
       "      <td>14937</td>\n",
       "    </tr>\n",
       "    <tr>\n",
       "      <th>3</th>\n",
       "      <td>Shared room</td>\n",
       "      <td>718</td>\n",
       "    </tr>\n",
       "    <tr>\n",
       "      <th>1</th>\n",
       "      <td>Hotel room</td>\n",
       "      <td>34</td>\n",
       "    </tr>\n",
       "  </tbody>\n",
       "</table>\n",
       "</div>"
      ],
      "text/plain": [
       "         room_type  count\n",
       "0  Entire home/apt  17241\n",
       "2     Private room  14937\n",
       "3      Shared room    718\n",
       "1       Hotel room     34"
      ]
     },
     "execution_count": 151,
     "metadata": {},
     "output_type": "execute_result"
    }
   ],
   "source": [
    "## Which room type adheres to more strict cancellation policy\n",
    "airbnb_data.groupby(\"room_type\")[\"cancellation_policy\"].apply(lambda x: (x==\"strict\").sum()).reset_index(name=\"count\").sort_values(\"count\", ascending=False)"
   ]
  },
  {
   "cell_type": "code",
   "execution_count": 152,
   "id": "d01c1ac4",
   "metadata": {},
   "outputs": [
    {
     "data": {
      "text/html": [
       "<div>\n",
       "<style scoped>\n",
       "    .dataframe tbody tr th:only-of-type {\n",
       "        vertical-align: middle;\n",
       "    }\n",
       "\n",
       "    .dataframe tbody tr th {\n",
       "        vertical-align: top;\n",
       "    }\n",
       "\n",
       "    .dataframe thead tr th {\n",
       "        text-align: left;\n",
       "    }\n",
       "</style>\n",
       "<table border=\"1\" class=\"dataframe\">\n",
       "  <thead>\n",
       "    <tr>\n",
       "      <th></th>\n",
       "      <th>neighbourhood_group</th>\n",
       "      <th colspan=\"2\" halign=\"left\">price</th>\n",
       "    </tr>\n",
       "    <tr>\n",
       "      <th></th>\n",
       "      <th></th>\n",
       "      <th>mean</th>\n",
       "      <th>max</th>\n",
       "    </tr>\n",
       "  </thead>\n",
       "  <tbody>\n",
       "    <tr>\n",
       "      <th>0</th>\n",
       "      <td>Bronx</td>\n",
       "      <td>626.614412</td>\n",
       "      <td>1200.0</td>\n",
       "    </tr>\n",
       "    <tr>\n",
       "      <th>1</th>\n",
       "      <td>Brooklyn</td>\n",
       "      <td>626.428192</td>\n",
       "      <td>1200.0</td>\n",
       "    </tr>\n",
       "    <tr>\n",
       "      <th>2</th>\n",
       "      <td>Manhattan</td>\n",
       "      <td>622.683781</td>\n",
       "      <td>1200.0</td>\n",
       "    </tr>\n",
       "    <tr>\n",
       "      <th>3</th>\n",
       "      <td>Queens</td>\n",
       "      <td>629.712735</td>\n",
       "      <td>1200.0</td>\n",
       "    </tr>\n",
       "    <tr>\n",
       "      <th>4</th>\n",
       "      <td>Staten Island</td>\n",
       "      <td>626.431843</td>\n",
       "      <td>1200.0</td>\n",
       "    </tr>\n",
       "    <tr>\n",
       "      <th>5</th>\n",
       "      <td>brookln</td>\n",
       "      <td>580.000000</td>\n",
       "      <td>580.0</td>\n",
       "    </tr>\n",
       "    <tr>\n",
       "      <th>6</th>\n",
       "      <td>manhatan</td>\n",
       "      <td>460.000000</td>\n",
       "      <td>460.0</td>\n",
       "    </tr>\n",
       "  </tbody>\n",
       "</table>\n",
       "</div>"
      ],
      "text/plain": [
       "  neighbourhood_group       price        \n",
       "                             mean     max\n",
       "0               Bronx  626.614412  1200.0\n",
       "1            Brooklyn  626.428192  1200.0\n",
       "2           Manhattan  622.683781  1200.0\n",
       "3              Queens  629.712735  1200.0\n",
       "4       Staten Island  626.431843  1200.0\n",
       "5             brookln  580.000000   580.0\n",
       "6            manhatan  460.000000   460.0"
      ]
     },
     "execution_count": 152,
     "metadata": {},
     "output_type": "execute_result"
    }
   ],
   "source": [
    "## List the prices by neighborhood group and also mention which is the most expensive neighborhood group for rentals\n",
    "airbnb_data.groupby(\"neighbourhood_group\").agg({\"price\": [\"mean\", \"max\"]}).reset_index()"
   ]
  },
  {
   "cell_type": "markdown",
   "id": "ca3ed1e6",
   "metadata": {},
   "source": [
    "## Task 5a: Data Visualization (Any Tool)\n",
    "\n",
    "- Create a horizontal bar chart to display the top 10 most expensive neighborhoods in the dataset.\n",
    "    - Create another chart with the 10 cheapest neighborhoods in the dataset.\n",
    "- Create a box and whisker chart that showcases the price distribution of all listings split by room type.\n",
    "\n",
    "If using Python for this exercise, please include the code in the cells below. If using any other tool, please include screenshoots of your work."
   ]
  },
  {
   "cell_type": "code",
   "execution_count": 181,
   "id": "4e5a6b74",
   "metadata": {},
   "outputs": [],
   "source": [
    "import matplotlib as mpl\n",
    "import seaborn as sb\n",
    "\n",
    "# For each neighbourhood, we will use the median of the price\n",
    "neighbourhoods_mean_price = airbnb_data.groupby(\"neighbourhood\")[[\"price\"]].median().reset_index()\n",
    "# Now calculate the 10 most expensive and 10 cheapest neighbourhoods\n",
    "expensive_neighbourhoods = neighbourhoods_mean_price.sort_values(\"price\", ascending=False).head(10)\n",
    "cheapest_neighbourhoods = neighbourhoods_mean_price.sort_values(\"price\", ascending=True).head(10)"
   ]
  },
  {
   "cell_type": "code",
   "execution_count": 197,
   "id": "a4c17b11",
   "metadata": {},
   "outputs": [
    {
     "data": {
      "image/png": "[encoded data removed]",
      "text/plain": [
       "<Figure size 640x480 with 1 Axes>"
      ]
     },
     "metadata": {},
     "output_type": "display_data"
    }
   ],
   "source": [
    "# Create the bar graph for neighbourhood vs price\n",
    "expensive_graph = sb.barplot(data=expensive_neighbourhoods, x=\"neighbourhood\", y=\"price\")\n",
    "\n",
    "# The labels are unreadable unless we rotate them 90 degrees\n",
    "for item in expensive_graph.get_xticklabels():\n",
    "    item.set_rotation(90)\n",
    "\n",
    "# Ensure proper labels and title\n",
    "expensive_graph.set(xlabel='Neighbourhood', ylabel='Price')\n",
    "expensive_graph.set_title(\"Top 10 Most Expensive Neighbourhoods\")\n",
    "\n",
    "# Get the price values as an array for us to manipulate when adding to the graph\n",
    "price_values = expensive_neighbourhoods.price.values\n",
    "\n",
    "# Add it to the plot\n",
    "pos = range(len(price_values))\n",
    "for tick,label in zip(pos, expensive_graph.get_xticklabels()):\n",
    "    expensive_graph.text(pos[tick],  # x position\n",
    "                       price_values[tick] + 5, # y position\n",
    "                       str(price_values[tick]),  # display the median value\n",
    "                       horizontalalignment='center',\n",
    "                       size='x-small',\n",
    "                       color='b',\n",
    "                       weight='semibold')"
   ]
  },
  {
   "cell_type": "code",
   "execution_count": 196,
   "id": "2c28b705",
   "metadata": {},
   "outputs": [
    {
     "data": {
      "image/png": "[encoded data removed]",
      "text/plain": [
       "<Figure size 640x480 with 1 Axes>"
      ]
     },
     "metadata": {},
     "output_type": "display_data"
    }
   ],
   "source": [
    "# Create the bar graph for neighbourhood vs price\n",
    "cheapest_graph = sb.barplot(data=cheapest_neighbourhoods, x=\"neighbourhood\", y=\"price\")\n",
    "\n",
    "# The labels are unreadable unless we rotate them 90 degrees\n",
    "for item in cheapest_graph.get_xticklabels():\n",
    "    item.set_rotation(90)\n",
    "\n",
    "# Ensure proper labels and title\n",
    "cheapest_graph.set(xlabel='Neighbourhood', ylabel='Price')\n",
    "cheapest_graph.set_title(\"Top 10 Cheapest Neighbourhoods\")\n",
    "\n",
    "# Get the price values as an array for us to manipulate when adding to the graph\n",
    "price_values = cheapest_neighbourhoods.price.values\n",
    "\n",
    "# Add it to the plot\n",
    "pos = range(len(price_values))\n",
    "for tick,label in zip(pos, cheapest_graph.get_xticklabels()):\n",
    "    cheapest_graph.text(pos[tick],  # x position\n",
    "                       price_values[tick] + 5, # y position\n",
    "                       str(price_values[tick]),  # display the median value\n",
    "                       horizontalalignment='center',\n",
    "                       size='x-small',\n",
    "                       color='b',\n",
    "                       weight='semibold')"
   ]
  },
  {
   "cell_type": "code",
   "execution_count": 193,
   "id": "1d567723",
   "metadata": {},
   "outputs": [
    {
     "data": {
      "image/png": "[encoded data removed]",
      "text/plain": [
       "<Figure size 640x480 with 1 Axes>"
      ]
     },
     "metadata": {},
     "output_type": "display_data"
    }
   ],
   "source": [
    "# Create the box/whisker graph for price distribution by room type\n",
    "boxplot_graph = airbnb_data.boxplot(by=\"room_type\", column=[\"price\"], grid=False)\n",
    "\n",
    "# Ensure proper labels and title\n",
    "boxplot_graph.set(title=\"Price distribution by Room Type\")\n",
    "boxplot_graph.set(xlabel='Room Type', ylabel='Price Distribution')\n",
    "\n",
    "# Calculate median to position labels\n",
    "medians = airbnb_data.groupby(['room_type'])['price'].median().values\n",
    " \n",
    "# Add it to the plot\n",
    "pos = range(len(medians))\n",
    "for tick,label in zip(pos, boxplot_graph.get_xticklabels()):\n",
    "    boxplot_graph.text(pos[tick] + 1,  # x position\n",
    "                       medians[tick] + 5, # y position\n",
    "                       medians[tick],  # display the median value\n",
    "                       horizontalalignment='center',\n",
    "                       size='x-small',\n",
    "                       color='b',\n",
    "                       weight='semibold')"
   ]
  },
  {
   "cell_type": "markdown",
   "id": "9c313303",
   "metadata": {},
   "source": [
    "## Task 5b: Data Visualization (Any Tool)\n",
    "\n",
    "- Create a scatter plot to illustrate the relationshi between the cleaning fee and the room price and write down the kind of correlation, if any, that you see.\n",
    "- Create a line chart to showcase the total amount of listings available per year.\n",
    "\n",
    "If using Python for this exercise, please include the code in the cells below. If using any other tool, please include screenshoots of your work."
   ]
  },
  {
   "cell_type": "code",
   "execution_count": null,
   "id": "8c9d22b5",
   "metadata": {},
   "outputs": [],
   "source": []
  },
  {
   "cell_type": "code",
   "execution_count": null,
   "id": "343be5c4",
   "metadata": {},
   "outputs": [],
   "source": []
  },
  {
   "cell_type": "markdown",
   "id": "9db2466c",
   "metadata": {},
   "source": [
    "## Task 5c: Data Visualization (Any Tool)\n",
    "\n",
    "- Create a data visualization of your choosing using one of the review columns in isolation or in combination with another column.\n",
    "- Create a visualization to compare at least two different variables between super hosts and regular hosts.\n",
    "\n",
    "If using Python for this exercise, please include the code in the cells below. If using any other tool, please include screenshoots of your work."
   ]
  },
  {
   "cell_type": "code",
   "execution_count": null,
   "id": "3f1fb0c3",
   "metadata": {},
   "outputs": [],
   "source": []
  },
  {
   "cell_type": "code",
   "execution_count": null,
   "id": "fcdb016f",
   "metadata": {},
   "outputs": [],
   "source": []
  },
  {
   "cell_type": "code",
   "execution_count": null,
   "id": "1d65f685",
   "metadata": {},
   "outputs": [],
   "source": []
  }
 ],
 "metadata": {
  "kernelspec": {
   "display_name": "sb-dataanalytics",
   "language": "python",
   "name": "python3"
  },
  "language_info": {
   "codemirror_mode": {
    "name": "ipython",
    "version": 3
   },
   "file_extension": ".py",
   "mimetype": "text/x-python",
   "name": "python",
   "nbconvert_exporter": "python",
   "pygments_lexer": "ipython3",
   "version": "3.10.8"
  },
  "nteract": {
   "version": "0.28.0"
  },
  "vscode": {
   "interpreter": {
    "hash": "1a368c6ea3429ac3388d5fea048e74521ede01bf9d5324b96c3f3d39fe62f835"
   }
  }
 },
 "nbformat": 4,
 "nbformat_minor": 5
}
